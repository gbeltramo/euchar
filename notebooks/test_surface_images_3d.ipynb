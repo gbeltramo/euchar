{
 "cells": [
  {
   "cell_type": "markdown",
   "metadata": {},
   "source": [
    "# Test libsurface.cpp - Image 3D"
   ]
  },
  {
   "cell_type": "code",
   "execution_count": 2,
   "metadata": {},
   "outputs": [],
   "source": [
    "%load_ext autoreload\n",
    "%autoreload 2"
   ]
  },
  {
   "cell_type": "code",
   "execution_count": 6,
   "metadata": {},
   "outputs": [],
   "source": [
    "import numpy as np\n",
    "np.random.seed(0)\n",
    "N = 12\n",
    "img1 = np.random.randint(0, 255, (N, N, N))\n",
    "img2 = np.random.randint(0, 255, (N, N, N))\n",
    "\n",
    "bool_img = np.random.randint(0, 2, (10,10, 10), dtype=bool)"
   ]
  },
  {
   "cell_type": "code",
   "execution_count": 7,
   "metadata": {},
   "outputs": [],
   "source": [
    "from time import time\n",
    "from sys import getsizeof\n",
    "from nice.utils import print_dir\n",
    "from nice.plot import matplotlib_plot, imshow_colorspace, line\n",
    "import euchar.cppbinding.utils as u\n",
    "import euchar.cppbinding.surface as s\n",
    "from euchar.display import euler_curve_plot"
   ]
  },
  {
   "cell_type": "code",
   "execution_count": 8,
   "metadata": {},
   "outputs": [],
   "source": [
    "import matplotlib.pyplot as plt\n",
    "from matplotlib import cm\n",
    "from numpy import arange, array, meshgrid, rot90\n",
    "# For contours levels\n",
    "from matplotlib.ticker import MaxNLocator\n",
    "\n",
    "def plot_contour_surface(surface, nbins=15, dx=0.05, dy=0.05,\n",
    "    title=\"Contourf\", color_map='RdYlBu',\n",
    "    xlabel=\"\", ylabel=\"\", xticks=[], yticks=[],\n",
    "    figsize=(4,4), save=False, filename=\"--\", dpi=220):\n",
    "    \"\"\"\n",
    "    Plot contours of function\n",
    "\n",
    "    Parameters\n",
    "    ----------\n",
    "    nbins\n",
    "        int, regulates the smoothness of the contours\n",
    "    color_map\n",
    "        string, options are: 'viridis', 'plasma', 'inferno', 'magma',\n",
    "        'Greys', 'OrRd', 'Reds',\n",
    "        'binary', 'cool', 'hot', 'afmhot', 'coppet', 'PRGn', 'PiYG',\n",
    "        'RdBu', 'RdYlBu', 'Spectral', 'coolwarm' and others.\n",
    "    \"\"\"\n",
    "\n",
    "    # Contours levels\n",
    "    levels = MaxNLocator(nbins=nbins).tick_values(surface.min(), surface.max())\n",
    "    # Color map\n",
    "    cmap = plt.get_cmap(color_map)\n",
    "\n",
    "    fig = plt.figure(figsize=figsize)\n",
    "    ax = fig.add_subplot(111)\n",
    "    x = arange(surface.shape[1])\n",
    "    y = arange(surface.shape[0])\n",
    "    xx, yy = meshgrid(x, y)\n",
    "\n",
    "    # Plot the surface.\n",
    "    cf = ax.contourf(xx + dx/2.,\n",
    "                     yy + dy/2.,\n",
    "                     surface,\n",
    "                     levels=levels,\n",
    "                     cmap=cmap)\n",
    "    fig.colorbar(cf, ax=ax)\n",
    "\n",
    "    ax.set(xlabel=xlabel, ylabel=ylabel, xticks=xticks, yticks=yticks)\n",
    "    #ax.xaxis.set_major_locator(ticker.FixedLocator((pos_list)))\n",
    "    #ax.xaxis.set_major_formatter(ticker.FixedFormatter((name_list)))\n",
    "    ax.set_title(title)\n",
    "    fig.tight_layout()\n",
    "\n",
    "    if save == True:\n",
    "        plt.savefig(fname=filename, dpi=dpi)\n",
    "    else:\n",
    "        plt.show()"
   ]
  },
  {
   "cell_type": "code",
   "execution_count": 9,
   "metadata": {},
   "outputs": [
    {
     "name": "stdout",
     "output_type": "stream",
     "text": [
      "time: 0.19 | size v: 256.00 Mb\n"
     ]
    }
   ],
   "source": [
    "st = time()\n",
    "v = np.load(\"C:\\\\Users\\\\44792\\\\data\\\\research\\\\vectors_euler_changes\\\\changes_3d.npy\")\n",
    "print(f\"time: {time() - st:.2f} | size v: {getsizeof(v) / 1024 / 1024:.2f} Mb\")"
   ]
  },
  {
   "cell_type": "code",
   "execution_count": 10,
   "metadata": {},
   "outputs": [
    {
     "name": "stdout",
     "output_type": "stream",
     "text": [
      "int32\n",
      "37748736 45\n"
     ]
    }
   ],
   "source": [
    "v2 = np.arange(10)\n",
    "print(v2.dtype)\n",
    "print(v.sum(), v2.sum())"
   ]
  },
  {
   "cell_type": "markdown",
   "metadata": {},
   "source": [
    "### Images"
   ]
  },
  {
   "cell_type": "code",
   "execution_count": 11,
   "metadata": {},
   "outputs": [
    {
     "name": "stdout",
     "output_type": "stream",
     "text": [
      "[[172  47 117 192  67 251 195 103   9 211  21 242]\n",
      " [ 36  87  70 216  88 140  58 193 230  39  87 174]\n",
      " [ 88  81 165  25  77  72   9 148 115 208 243 197]\n",
      " [254  79 175 192  82  99 216 177 243  29 147 147]\n",
      " [142 167  32 193   9 185 127  32  31 202 244 151]\n",
      " [163 254 203 114 183  28  34 128 128 164  53 133]\n",
      " [ 38 232 244  17  79 132 105  42 186  31 120   1]\n",
      " [ 65 231 169  57  35 102 119  11 174  82  91 128]\n",
      " [142  99  53 140 121 170  84 203  68   6 196  47]\n",
      " [127 244 131 204 100 180 232  78 143 148 227 186]\n",
      " [ 23 207 141 117  85  48  49  69 169 163 192  95]\n",
      " [197  94   0 113 178  36 162  48  93 131  98  42]]\n",
      "------------------------------------------------------------\n",
      "(array([2, 7, 8], dtype=int64), array([ 4, 11,  5], dtype=int64), array([9, 1, 0], dtype=int64))\n"
     ]
    }
   ],
   "source": [
    "print(img1[0])\n",
    "print(\"-\"*60)\n",
    "print(np.where(img1 == 255))"
   ]
  },
  {
   "cell_type": "code",
   "execution_count": 12,
   "metadata": {},
   "outputs": [
    {
     "name": "stdout",
     "output_type": "stream",
     "text": [
      "[[228  56  21 167 234  74  29 241 157 189  58  24]\n",
      " [114  16 192 100 226 123  13   1 251   2  66 147]\n",
      " [244 250 204 158  39 213  77 177  26 115 140 241]\n",
      " [192   1 164  10 106  32 254  28 186 194 220  65]\n",
      " [205  83  47  81 164 199  53 198 137  15  18 157]\n",
      " [181 188  42 210 130  29 145  35 120  19 144  23]\n",
      " [140  99 109 184 194  20 131  81 172  38  42 202]\n",
      " [ 37 106  40 111  27 132 179 150 165  35  30   7]\n",
      " [216  88 239 143 138 147  77 231  56 229 231 146]\n",
      " [199  60  24 160 108  39 116 104 126 111 116 228]\n",
      " [234  16 180 218 232 208  46 224  94  84  23 143]\n",
      " [172  83 119  55  98 155  45 226  81 215 155  77]]\n",
      "------------------------------------------------------------\n",
      "(array([ 3,  4,  4,  4,  6,  7, 10, 10, 11], dtype=int64), array([ 1,  1,  2,  2,  7,  3,  3,  3, 11], dtype=int64), array([10, 10,  1, 11, 10,  3,  5, 11,  6], dtype=int64))\n"
     ]
    }
   ],
   "source": [
    "print(img2[0])\n",
    "print(\"-\"*60)\n",
    "print(np.where(img2 == 255))"
   ]
  },
  {
   "cell_type": "markdown",
   "metadata": {},
   "source": [
    "***"
   ]
  },
  {
   "cell_type": "markdown",
   "metadata": {},
   "source": [
    "### Naive surface 3D images"
   ]
  },
  {
   "cell_type": "code",
   "execution_count": 13,
   "metadata": {},
   "outputs": [
    {
     "name": "stdout",
     "output_type": "stream",
     "text": [
      "time: 46.52\n"
     ]
    }
   ],
   "source": [
    "st = time()\n",
    "naive = s.naive_images_3d(img1, img2, 255, 255)\n",
    "print(f\"time: {time()-st:.2f}\")"
   ]
  },
  {
   "cell_type": "code",
   "execution_count": 14,
   "metadata": {},
   "outputs": [],
   "source": [
    "naive = np.array(naive)"
   ]
  },
  {
   "cell_type": "code",
   "execution_count": 15,
   "metadata": {},
   "outputs": [
    {
     "name": "stdout",
     "output_type": "stream",
     "text": [
      "1\n"
     ]
    }
   ],
   "source": [
    "print(naive[-1,-1])"
   ]
  },
  {
   "cell_type": "code",
   "execution_count": 16,
   "metadata": {},
   "outputs": [
    {
     "data": {
      "image/png": "[encoded data removed]",
      "text/plain": [
       "<Figure size 288x288 with 2 Axes>"
      ]
     },
     "metadata": {
      "needs_background": "light"
     },
     "output_type": "display_data"
    }
   ],
   "source": [
    "plot_contour_surface(np.array(naive), title=\"naive\")"
   ]
  },
  {
   "cell_type": "markdown",
   "metadata": {},
   "source": [
    "### Surface 3D images"
   ]
  },
  {
   "cell_type": "code",
   "execution_count": 17,
   "metadata": {},
   "outputs": [
    {
     "name": "stdout",
     "output_type": "stream",
     "text": [
      "time: 5.75\n"
     ]
    }
   ],
   "source": [
    "st = time()\n",
    "surf = np.array(s.images_3d(img1, img2, v, 255, 255))\n",
    "print(f\"time: {time() - st:.2f}\")"
   ]
  },
  {
   "cell_type": "code",
   "execution_count": 18,
   "metadata": {},
   "outputs": [
    {
     "name": "stdout",
     "output_type": "stream",
     "text": [
      "0\n"
     ]
    }
   ],
   "source": [
    "print(surf[-1,-1])"
   ]
  },
  {
   "cell_type": "code",
   "execution_count": 19,
   "metadata": {},
   "outputs": [
    {
     "data": {
      "image/png": "[encoded data removed]",
      "text/plain": [
       "<Figure size 288x288 with 2 Axes>"
      ]
     },
     "metadata": {
      "needs_background": "light"
     },
     "output_type": "display_data"
    }
   ],
   "source": [
    "plot_contour_surface(np.array(surf), title=\"surf\")"
   ]
  },
  {
   "cell_type": "markdown",
   "metadata": {},
   "source": [
    "### Test equality"
   ]
  },
  {
   "cell_type": "code",
   "execution_count": 20,
   "metadata": {},
   "outputs": [
    {
     "name": "stdout",
     "output_type": "stream",
     "text": [
      "(256, 256) \n",
      " (256, 256)\n"
     ]
    }
   ],
   "source": [
    "print(naive.shape, \"\\n\", surf.shape)"
   ]
  },
  {
   "cell_type": "code",
   "execution_count": 21,
   "metadata": {},
   "outputs": [
    {
     "data": {
      "text/plain": [
       "False"
      ]
     },
     "execution_count": 21,
     "metadata": {},
     "output_type": "execute_result"
    }
   ],
   "source": [
    "np.all(naive == surf)"
   ]
  },
  {
   "cell_type": "code",
   "execution_count": 22,
   "metadata": {},
   "outputs": [
    {
     "data": {
      "text/plain": [
       "(array([255], dtype=int64), array([255], dtype=int64))"
      ]
     },
     "execution_count": 22,
     "metadata": {},
     "output_type": "execute_result"
    }
   ],
   "source": [
    "np.where(np.array(naive) != np.array(surf))"
   ]
  },
  {
   "cell_type": "code",
   "execution_count": 23,
   "metadata": {},
   "outputs": [
    {
     "data": {
      "text/plain": [
       "array([[57, 53, 49, 47, 41, 39, 36, 35, 31, 26],\n",
       "       [56, 52, 48, 46, 40, 38, 35, 34, 30, 25],\n",
       "       [52, 48, 44, 42, 36, 34, 31, 30, 26, 21],\n",
       "       [50, 46, 42, 40, 34, 32, 29, 28, 24, 19],\n",
       "       [49, 45, 41, 39, 33, 30, 27, 26, 22, 17],\n",
       "       [47, 43, 39, 37, 31, 28, 25, 24, 20, 15],\n",
       "       [43, 39, 34, 32, 26, 23, 20, 19, 15, 10],\n",
       "       [40, 36, 31, 28, 21, 18, 15, 14, 10,  5],\n",
       "       [38, 34, 29, 26, 19, 16, 13, 11,  7,  2],\n",
       "       [37, 33, 28, 25, 18, 15, 12, 10,  6,  1]])"
      ]
     },
     "execution_count": 23,
     "metadata": {},
     "output_type": "execute_result"
    }
   ],
   "source": [
    "naive[-10:, -10:]"
   ]
  },
  {
   "cell_type": "code",
   "execution_count": 24,
   "metadata": {},
   "outputs": [
    {
     "data": {
      "text/plain": [
       "array([[57, 53, 49, 47, 41, 39, 36, 35, 31, 26],\n",
       "       [56, 52, 48, 46, 40, 38, 35, 34, 30, 25],\n",
       "       [52, 48, 44, 42, 36, 34, 31, 30, 26, 21],\n",
       "       [50, 46, 42, 40, 34, 32, 29, 28, 24, 19],\n",
       "       [49, 45, 41, 39, 33, 30, 27, 26, 22, 17],\n",
       "       [47, 43, 39, 37, 31, 28, 25, 24, 20, 15],\n",
       "       [43, 39, 34, 32, 26, 23, 20, 19, 15, 10],\n",
       "       [40, 36, 31, 28, 21, 18, 15, 14, 10,  5],\n",
       "       [38, 34, 29, 26, 19, 16, 13, 11,  7,  2],\n",
       "       [37, 33, 28, 25, 18, 15, 12, 10,  6,  0]])"
      ]
     },
     "execution_count": 24,
     "metadata": {},
     "output_type": "execute_result"
    }
   ],
   "source": [
    "surf[-10:,-10:]"
   ]
  },
  {
   "cell_type": "markdown",
   "metadata": {},
   "source": [
    "***"
   ]
  },
  {
   "cell_type": "code",
   "execution_count": 26,
   "metadata": {},
   "outputs": [
    {
     "name": "stdout",
     "output_type": "stream",
     "text": [
      "====== 0\n",
      "time naive: 79.34 | time surf: 7.45 \t --> Where different? (array([], dtype=int64), array([], dtype=int64))  ||  1\n",
      "====== 1\n",
      "time naive: 77.60 | time surf: 7.96 \t --> Where different? (array([], dtype=int64), array([], dtype=int64))  ||  1\n",
      "====== 2\n",
      "time naive: 78.47 | time surf: 7.50 \t --> Where different? (array([], dtype=int64), array([], dtype=int64))  ||  1\n",
      "====== 3\n",
      "time naive: 76.97 | time surf: 7.12 \t --> Where different? (array([], dtype=int64), array([], dtype=int64))  ||  1\n"
     ]
    }
   ],
   "source": [
    "for i in range(4):\n",
    "    N = 15\n",
    "    np.random.seed(i)\n",
    "    img1 = np.random.randint(0, 255, (N, N, N))\n",
    "    img2 = np.random.randint(0, 255, (N, N, N))\n",
    "    print(\"======\", i)\n",
    "    start_i = time()\n",
    "    naive = np.array(s.naive_images_3d(img1, img2, 255, 255))\n",
    "    inter_i = time()\n",
    "    print(f\"time naive: {inter_i - start_i:.2f} | \", end=\"\")\n",
    "    surf = np.array(s.images_3d(img1, img2, v, 255, 255))\n",
    "    print(f\"time surf: {time() - inter_i:.2f}\", end = \" \")\n",
    "    print(\"\\t --> Where different?\",np.where(np.array(naive) != np.array(surf)), \" || \", surf[-1, -1])"
   ]
  },
  {
   "cell_type": "code",
   "execution_count": null,
   "metadata": {},
   "outputs": [],
   "source": []
  }
 ],
 "metadata": {
  "kernelspec": {
   "display_name": "Python 3",
   "language": "python",
   "name": "python3"
  },
  "language_info": {
   "codemirror_mode": {
    "name": "ipython",
    "version": 3
   },
   "file_extension": ".py",
   "mimetype": "text/x-python",
   "name": "python",
   "nbconvert_exporter": "python",
   "pygments_lexer": "ipython3",
   "version": "3.7.4"
  }
 },
 "nbformat": 4,
 "nbformat_minor": 4
}
