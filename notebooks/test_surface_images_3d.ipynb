{
 "cells": [
  {
   "cell_type": "markdown",
   "metadata": {},
   "source": [
    "# Test libsurface.cpp - Image 3D"
   ]
  },
  {
   "cell_type": "code",
   "execution_count": 1,
   "metadata": {},
   "outputs": [],
   "source": [
    "%load_ext autoreload\n",
    "%autoreload 2\n",
    "from sys import getsizeof\n",
    "from time import time"
   ]
  },
  {
   "cell_type": "code",
   "execution_count": 2,
   "metadata": {},
   "outputs": [],
   "source": [
    "import numpy as np\n",
    "np.random.seed(0)\n",
    "img1 = np.random.randint(0, 256, (10,10, 10), dtype=np.uint8)\n",
    "img2 = np.random.randint(0, 256, (10,10, 10), dtype=np.uint8)\n",
    "\n",
    "bool_img = np.random.randint(0, 2, (10,10, 10), dtype=bool)"
   ]
  },
  {
   "cell_type": "code",
   "execution_count": 3,
   "metadata": {},
   "outputs": [],
   "source": [
    "from nice.utils import print_dir\n",
    "from nice.plot import matplotlib_plot, imshow_colorspace, line\n",
    "import euchar.cppbinding.utils as u\n",
    "import euchar.cppbinding.surface as s\n",
    "from euchar.display import euler_curve_plot"
   ]
  },
  {
   "cell_type": "code",
   "execution_count": 4,
   "metadata": {
    "jupyter": {
     "source_hidden": true
    }
   },
   "outputs": [],
   "source": [
    "import matplotlib.pyplot as plt\n",
    "from matplotlib import cm\n",
    "from numpy import arange, array, meshgrid, rot90\n",
    "# For contours levels\n",
    "from matplotlib.ticker import MaxNLocator\n",
    "\n",
    "def plot_contour_surface(surface, nbins=15, dx=0.05, dy=0.05,\n",
    "    title=\"Contourf\", color_map='RdYlBu',\n",
    "    xlabel=\"\", ylabel=\"\", xticks=[], yticks=[],\n",
    "    figsize=(4,4), save=False, filename=\"--\", dpi=220):\n",
    "    \"\"\"\n",
    "    Plot contours of function\n",
    "\n",
    "    Parameters\n",
    "    ----------\n",
    "    nbins\n",
    "        int, regulates the smoothness of the contours\n",
    "    color_map\n",
    "        string, options are: 'viridis', 'plasma', 'inferno', 'magma',\n",
    "        'Greys', 'OrRd', 'Reds',\n",
    "        'binary', 'cool', 'hot', 'afmhot', 'coppet', 'PRGn', 'PiYG',\n",
    "        'RdBu', 'RdYlBu', 'Spectral', 'coolwarm' and others.\n",
    "    \"\"\"\n",
    "\n",
    "    # Contours levels\n",
    "    levels = MaxNLocator(nbins=nbins).tick_values(surface.min(), surface.max())\n",
    "    # Color map\n",
    "    cmap = plt.get_cmap(color_map)\n",
    "\n",
    "    fig = plt.figure(figsize=figsize)\n",
    "    ax = fig.add_subplot(111)\n",
    "    x = arange(surface.shape[1])\n",
    "    y = arange(surface.shape[0])\n",
    "    xx, yy = meshgrid(x, y)\n",
    "\n",
    "    # Plot the surface.\n",
    "    cf = ax.contourf(xx + dx/2.,\n",
    "                     yy + dy/2.,\n",
    "                     surface,\n",
    "                     levels=levels,\n",
    "                     cmap=cmap)\n",
    "    fig.colorbar(cf, ax=ax)\n",
    "\n",
    "    ax.set(xlabel=xlabel, ylabel=ylabel, xticks=xticks, yticks=yticks)\n",
    "    #ax.xaxis.set_major_locator(ticker.FixedLocator((pos_list)))\n",
    "    #ax.xaxis.set_major_formatter(ticker.FixedFormatter((name_list)))\n",
    "    ax.set_title(title)\n",
    "    fig.tight_layout()\n",
    "\n",
    "    if save == True:\n",
    "        plt.savefig(fname=filename, dpi=dpi)\n",
    "    else:\n",
    "        plt.show()"
   ]
  },
  {
   "cell_type": "code",
   "execution_count": 5,
   "metadata": {},
   "outputs": [
    {
     "name": "stdout",
     "output_type": "stream",
     "text": [
      "time: 0.16 | size v: 256.00 Mb\n"
     ]
    }
   ],
   "source": [
    "st = time()\n",
    "v = np.load(\"C:\\\\Users\\\\44792\\\\data\\\\research\\\\vectors_euler_changes\\\\changes_3d.npy\")\n",
    "print(f\"time: {time() - st:.2f} | size v: {getsizeof(v) / 1024 / 1024:.2f} Mb\")"
   ]
  },
  {
   "cell_type": "code",
   "execution_count": 6,
   "metadata": {},
   "outputs": [
    {
     "name": "stdout",
     "output_type": "stream",
     "text": [
      "int32\n",
      "37748736 45\n"
     ]
    }
   ],
   "source": [
    "v2 = np.arange(10)\n",
    "print(v2.dtype)\n",
    "print(v.sum(), v2.sum())"
   ]
  },
  {
   "cell_type": "markdown",
   "metadata": {},
   "source": [
    "***"
   ]
  },
  {
   "cell_type": "markdown",
   "metadata": {},
   "source": [
    "### Naive surface 3D images"
   ]
  },
  {
   "cell_type": "code",
   "execution_count": 7,
   "metadata": {},
   "outputs": [
    {
     "name": "stdout",
     "output_type": "stream",
     "text": [
      "time: 28.35\n"
     ]
    }
   ],
   "source": [
    "st = time()\n",
    "naive = s.naive_images_3d(img1, img2, 255, 255)\n",
    "print(f\"time: {time()-st:.2f}\")"
   ]
  },
  {
   "cell_type": "code",
   "execution_count": 8,
   "metadata": {},
   "outputs": [
    {
     "data": {
      "image/png": "[encoded data removed]",
      "text/plain": [
       "<Figure size 288x288 with 2 Axes>"
      ]
     },
     "metadata": {
      "needs_background": "light"
     },
     "output_type": "display_data"
    }
   ],
   "source": [
    "plot_contour_surface(np.array(naive), title=\"naive\")"
   ]
  },
  {
   "cell_type": "markdown",
   "metadata": {},
   "source": [
    "### Surface 3D images"
   ]
  },
  {
   "cell_type": "code",
   "execution_count": null,
   "metadata": {},
   "outputs": [],
   "source": [
    "surf = np.array(s.images_3d(img1, img2, v, 255, 255))"
   ]
  },
  {
   "cell_type": "code",
   "execution_count": 1,
   "metadata": {},
   "outputs": [
    {
     "name": "stdout",
     "output_type": "stream",
     "text": [
      "Writing ..\\\\surface_3d.py\n"
     ]
    }
   ],
   "source": [
    "%%writefile ..\\\\surface_3d.py\n",
    "from sys import getsizeof\n",
    "from time import time\n",
    "import numpy as np\n",
    "\n",
    "np.random.seed(0)\n",
    "img1 = np.random.randint(0, 256, (10,10, 10), dtype=np.uint8)\n",
    "img2 = np.random.randint(0, 256, (10,10, 10), dtype=np.uint8)\n",
    "\n",
    "import euchar.cppbinding.surface as s\n",
    "\n",
    "print(\"Imports done\\n=====\")\n",
    "\n",
    "st = time()\n",
    "v= np.load(\"C:\\\\Users\\\\44792\\\\data\\\\research\\\\vectors_euler_changes\\\\changes_3d.npy\")\n",
    "print(f\"loading v...\\n\\ttime: {time() - st:.2f} | size v: {getsizeof(v) / 1024 / 1024:.2f} Mb\")\n",
    "\n",
    "print(\"=\"*10)\n",
    "\n",
    "print(\"Start surface computation\")\n",
    "surf = s.images_3d(img1, img2, v, 255, 255)\n",
    "print(\"Done\")\n",
    "print(getsizeof(surf))"
   ]
  },
  {
   "cell_type": "code",
   "execution_count": null,
   "metadata": {},
   "outputs": [],
   "source": []
  }
 ],
 "metadata": {
  "kernelspec": {
   "display_name": "Python 3",
   "language": "python",
   "name": "python3"
  },
  "language_info": {
   "codemirror_mode": {
    "name": "ipython",
    "version": 3
   },
   "file_extension": ".py",
   "mimetype": "text/x-python",
   "name": "python",
   "nbconvert_exporter": "python",
   "pygments_lexer": "ipython3",
   "version": "3.7.4"
  }
 },
 "nbformat": 4,
 "nbformat_minor": 4
}
