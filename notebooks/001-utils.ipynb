{
 "cells": [
  {
   "cell_type": "markdown",
   "metadata": {},
   "source": [
    "# Utils"
   ]
  },
  {
   "cell_type": "code",
   "execution_count": 1,
   "metadata": {},
   "outputs": [],
   "source": [
    "import numpy as np\n",
    "import euchar.utils as u"
   ]
  },
  {
   "cell_type": "code",
   "execution_count": 2,
   "metadata": {},
   "outputs": [],
   "source": [
    "np.random.seed(0)\n",
    "N = 100\n",
    "img1 = np.random.randint(0, 256, (32,32))\n",
    "img2 = np.random.randint(0, 256, (32,32))\n",
    "pts2 = np.random.rand(N, 2)\n",
    "pts3 = np.random.rand(N, 3)"
   ]
  },
  {
   "cell_type": "code",
   "execution_count": 3,
   "metadata": {},
   "outputs": [
    {
     "data": {
      "text/plain": [
       "array([ 1,  0,  0,  0,  0, -1,  0,  0,  0,  0,  0,  0, -1, -1,  0,  0,  0,\n",
       "       -1,  0,  0,  0, -1,  0,  0, -1, -1,  0,  0, -1, -1,  0,  0,  0, -1,\n",
       "       -1, -1, -1, -2, -1, -1,  0,  0,  0,  0, -1, -1,  0,  0, -1, -2, -1,\n",
       "       -1, -1, -2, -1, -1, -1, -1,  0,  0, -1, -1,  0,  0,  0, -1, -1, -1,\n",
       "       -1, -2, -1, -1,  0,  0,  0,  0, -1, -1,  0,  0,  0, -1,  0,  0,  0,\n",
       "       -1,  0,  0,  0,  0,  1,  1,  0,  0,  1,  1,  0, -1, -1, -1, -1, -2,\n",
       "       -1, -1,  0,  0,  0,  0, -1, -1,  0,  0,  0, -1,  0,  0,  0, -1,  0,\n",
       "        0,  0,  0,  1,  1,  0,  0,  1,  1,  0, -1, -1, -1, -1, -2, -1, -1,\n",
       "       -1, -1, -1, -1, -2, -2, -1, -1,  0, -1,  0,  0,  0, -1,  0,  0, -1,\n",
       "       -1,  0,  0, -1, -1,  0,  0, -1, -2, -2, -2, -2, -3, -2, -2, -1, -1,\n",
       "       -1, -1, -2, -2, -1, -1, -1, -2, -1, -1, -1, -2, -1, -1, -1, -1,  0,\n",
       "        0, -1, -1,  0,  0,  0, -1, -1, -1, -1, -2, -1, -1,  0,  0,  0,  0,\n",
       "       -1, -1,  0,  0,  0, -1,  0,  0,  0, -1,  0,  0,  0,  0,  1,  1,  0,\n",
       "        0,  1,  1,  0, -1, -1, -1, -1, -2, -1, -1,  0,  0,  0,  0, -1, -1,\n",
       "        0,  0,  0, -1,  0,  0,  0, -1,  0,  0,  0,  0,  1,  1,  0,  0,  1,\n",
       "        1])"
      ]
     },
     "execution_count": 3,
     "metadata": {},
     "output_type": "execute_result"
    }
   ],
   "source": [
    "u.vector_all_euler_changes_in_2D_images()"
   ]
  },
  {
   "cell_type": "code",
   "execution_count": 4,
   "metadata": {},
   "outputs": [],
   "source": [
    "#vector_3D = u.vector_all_euler_changes_in_3D_images()"
   ]
  },
  {
   "cell_type": "code",
   "execution_count": 5,
   "metadata": {},
   "outputs": [],
   "source": [
    "density_vertices = u.estimate_density(pts2, 6)"
   ]
  },
  {
   "cell_type": "markdown",
   "metadata": {},
   "source": [
    "Parameter of triangle"
   ]
  },
  {
   "cell_type": "code",
   "execution_count": 6,
   "metadata": {},
   "outputs": [
    {
     "name": "stdout",
     "output_type": "stream",
     "text": [
      "0.5300414512326114\n"
     ]
    }
   ],
   "source": [
    "par = u.parameter_triangle(*pts2[[1,3,5]])\n",
    "print(par)"
   ]
  },
  {
   "cell_type": "markdown",
   "metadata": {},
   "source": [
    "Parameter tetrahedron"
   ]
  },
  {
   "cell_type": "code",
   "execution_count": 7,
   "metadata": {},
   "outputs": [
    {
     "name": "stdout",
     "output_type": "stream",
     "text": [
      "1.0642409603173644\n"
     ]
    }
   ],
   "source": [
    "par = u.parameter_tetrahedron(*pts3[[1,25,60,71]])\n",
    "print(par)"
   ]
  },
  {
   "cell_type": "code",
   "execution_count": null,
   "metadata": {},
   "outputs": [],
   "source": []
  }
 ],
 "metadata": {
  "kernelspec": {
   "display_name": "Python 3",
   "language": "python",
   "name": "python3"
  },
  "language_info": {
   "codemirror_mode": {
    "name": "ipython",
    "version": 3
   },
   "file_extension": ".py",
   "mimetype": "text/x-python",
   "name": "python",
   "nbconvert_exporter": "python",
   "pygments_lexer": "ipython3",
   "version": "3.7.4"
  }
 },
 "nbformat": 4,
 "nbformat_minor": 4
}
