{
 "cells": [
  {
   "cell_type": "markdown",
   "metadata": {},
   "source": [
    "# Test libutils.cpp - Image 2D"
   ]
  },
  {
   "cell_type": "code",
   "execution_count": 1,
   "metadata": {},
   "outputs": [],
   "source": [
    "%load_ext autoreload\n",
    "%autoreload 2"
   ]
  },
  {
   "cell_type": "code",
   "execution_count": 2,
   "metadata": {},
   "outputs": [],
   "source": [
    "import numpy as np\n",
    "np.random.seed(0)\n",
    "bool_img = np.random.randint(0, 2, (20,20), dtype=bool)\n",
    "neigh1 = np.array([[True, False],[True, False]])\n",
    "neigh2 = np.array([[False, True],[True, False]])\n",
    "img = np.random.randint(0, 256, (10,10), dtype=int)\n",
    "img[1, 1] = 243"
   ]
  },
  {
   "cell_type": "code",
   "execution_count": 3,
   "metadata": {},
   "outputs": [],
   "source": [
    "from nice.utils import print_dir\n",
    "from nice.plot import matplotlib_plot, imshow_colorspace\n",
    "import euchar.cppbinding.utils as u"
   ]
  },
  {
   "cell_type": "code",
   "execution_count": 4,
   "metadata": {},
   "outputs": [
    {
     "data": {
      "image/png": "[encoded data removed]",
      "text/plain": [
       "<Figure size 144x144 with 1 Axes>"
      ]
     },
     "metadata": {},
     "output_type": "display_data"
    }
   ],
   "source": [
    "fig, ax = matplotlib_plot(figsize=(2,2), facecolor=\"g\")\n",
    "imshow_colorspace(ax, img, \"BGR\", title=\"\")"
   ]
  },
  {
   "cell_type": "markdown",
   "metadata": {},
   "source": [
    "***"
   ]
  },
  {
   "cell_type": "code",
   "execution_count": 5,
   "metadata": {},
   "outputs": [
    {
     "name": "stdout",
     "output_type": "stream",
     "text": [
      "Attributes and methods of <class 'module'> are:\n",
      "---\n",
      "__doc__\n",
      "__file__                   | __loader__                 | __name__                   | __package__\n",
      "__spec__                   | __version__                | binary_neigh_pixel_2d      | binary_neigh_voxel_3d\n",
      "char_binary_image_2d       | char_binary_image_3d       | elementwise_AND_2d         | elementwise_AND_3d\n",
      "neigh_2d_from_number       | neigh_3d_from_number       | neigh_pixel_2d             | neigh_voxel_3d\n",
      "number_from_neigh_2d       | number_from_neigh_3d       | pad_2d                     | pad_3d\n",
      "sum_bool_2d                | sum_bool_3d                | threshold_image_2d         | threshold_image_3d\n",
      "vector_of_euler_changes_2d | vector_of_euler_changes_3d | "
     ]
    }
   ],
   "source": [
    "print_dir(u)"
   ]
  },
  {
   "cell_type": "markdown",
   "metadata": {},
   "source": [
    "### sum_bool_2d"
   ]
  },
  {
   "cell_type": "code",
   "execution_count": 6,
   "metadata": {},
   "outputs": [
    {
     "data": {
      "text/plain": [
       "True"
      ]
     },
     "execution_count": 6,
     "metadata": {},
     "output_type": "execute_result"
    }
   ],
   "source": [
    "u.sum_bool_2d(bool_img) == np.sum(bool_img)"
   ]
  },
  {
   "cell_type": "markdown",
   "metadata": {},
   "source": [
    "### pad_2d"
   ]
  },
  {
   "cell_type": "code",
   "execution_count": 7,
   "metadata": {},
   "outputs": [
    {
     "name": "stdout",
     "output_type": "stream",
     "text": [
      "[[256 256 256 256 256 256 256 256 256 256 256 256]\n",
      " [256  87  70 216  88 140  58 193 230  39  87 256]\n",
      " [256 174 243  81 165  25  77  72   9 148 115 256]\n",
      " [256 208 243 197 254  79 175 192  82  99 216 256]\n",
      " [256 177 243  29 147 147 142 167  32 193   9 256]\n",
      " [256 185 127  32  31 202 244 151 163 254 203 256]\n",
      " [256 114 183  28  34 128 128 164  53 133  38 256]\n",
      " [256 232 244  17  79 132 105  42 186  31 120 256]\n",
      " [256   1  65 231 169  57  35 102 119  11 174 256]\n",
      " [256  82  91 128 142  99  53 140 121 170  84 256]\n",
      " [256 203  68   6 196  47 127 244 131 204 100 256]\n",
      " [256 256 256 256 256 256 256 256 256 256 256 256]]\n"
     ]
    }
   ],
   "source": [
    "pad = np.array(u.pad_2d(img, 256))\n",
    "print(pad)"
   ]
  },
  {
   "cell_type": "markdown",
   "metadata": {},
   "source": [
    "### threshold_image_2d"
   ]
  },
  {
   "cell_type": "code",
   "execution_count": 8,
   "metadata": {},
   "outputs": [
    {
     "data": {
      "image/png": "[encoded data removed]",
      "text/plain": [
       "<Figure size 576x144 with 4 Axes>"
      ]
     },
     "metadata": {},
     "output_type": "display_data"
    }
   ],
   "source": [
    "th = np.array([u.threshold_image_2d(pad, T) for T in [80, 100, 120, 140]])\n",
    "fig, ax = matplotlib_plot(1, 4, figsize=(2,2), facecolor=\"#cccccc\")\n",
    "for i in range(4): imshow_colorspace(ax[i], -1*th[i]+1, \"gray\", title=\"\")"
   ]
  },
  {
   "cell_type": "markdown",
   "metadata": {},
   "source": [
    "### char_binary_image_2d"
   ]
  },
  {
   "cell_type": "code",
   "execution_count": 9,
   "metadata": {},
   "outputs": [
    {
     "name": "stdout",
     "output_type": "stream",
     "text": [
      "i=0 -> 6 | i=1 -> 2 | i=2 -> 1 | i=3 -> 0 | "
     ]
    }
   ],
   "source": [
    "for i in range(4): print(f\"i={i} -> {u.char_binary_image_2d(th[i]):d}\", end=\" | \")"
   ]
  },
  {
   "cell_type": "markdown",
   "metadata": {},
   "source": [
    "### elementwise_AND_2d"
   ]
  },
  {
   "cell_type": "code",
   "execution_count": 10,
   "metadata": {},
   "outputs": [
    {
     "data": {
      "image/png": "[encoded data removed]",
      "text/plain": [
       "<Figure size 432x144 with 3 Axes>"
      ]
     },
     "metadata": {},
     "output_type": "display_data"
    }
   ],
   "source": [
    "neigh3 = np.array(u.elementwise_AND_2d(neigh1, neigh2))\n",
    "ne = [neigh1, neigh2, neigh3]\n",
    "fig, ax = matplotlib_plot(1, 3, figsize=(2,2), facecolor=\"#cccccc\")\n",
    "for i in range(3): imshow_colorspace(ax[i], -1*ne[i]+1, \"gray\", title=\"\")"
   ]
  },
  {
   "cell_type": "markdown",
   "metadata": {},
   "source": [
    "### binary_neigh_pixel_2d"
   ]
  },
  {
   "cell_type": "code",
   "execution_count": 11,
   "metadata": {},
   "outputs": [
    {
     "name": "stdout",
     "output_type": "stream",
     "text": [
      "T: 243\n",
      "[[174 243  81]\n",
      " [208 243 197]\n",
      " [177 243  29]]\n",
      "cpp\n",
      " [[ True  True  True]\n",
      " [ True  True  True]\n",
      " [ True False  True]]\n",
      "np\n",
      " [[ True  True  True]\n",
      " [ True  True  True]\n",
      " [ True  True  True]] \n",
      "\n"
     ]
    }
   ],
   "source": [
    "I, J = 3, 2\n",
    "T = pad[I,J]\n",
    "print(\"T:\", T)\n",
    "bool_neigh = np.array(u.binary_neigh_pixel_2d(pad, I, 2, T))\n",
    "print(pad[I-1:I+2, 2-1:2+2])\n",
    "print(\"cpp\\n\", bool_neigh)\n",
    "print(\"np\\n\", pad[I-1:I+2, 2-1:2+2] <= T, \"\\n\")"
   ]
  },
  {
   "cell_type": "code",
   "execution_count": 12,
   "metadata": {},
   "outputs": [
    {
     "data": {
      "image/png": "[encoded data removed]",
      "text/plain": [
       "<Figure size 144x144 with 1 Axes>"
      ]
     },
     "metadata": {},
     "output_type": "display_data"
    }
   ],
   "source": [
    "fig, ax = matplotlib_plot(figsize=(2,2), facecolor=\"#cccccc\")\n",
    "imshow_colorspace(ax, -1*bool_neigh+1)"
   ]
  },
  {
   "cell_type": "markdown",
   "metadata": {},
   "source": [
    "### number_from_neigh_2d and neigh_2d_from_number"
   ]
  },
  {
   "cell_type": "code",
   "execution_count": 13,
   "metadata": {},
   "outputs": [
    {
     "data": {
      "image/png": "[encoded data removed]",
      "text/plain": [
       "<Figure size 576x288 with 8 Axes>"
      ]
     },
     "metadata": {},
     "output_type": "display_data"
    }
   ],
   "source": [
    "fig, ax = matplotlib_plot(2, 4, figsize=(2,2), facecolor=\"#cccccc\")\n",
    "for i in range(2): \n",
    "    for j in range(4): \n",
    "        exp = 2**(j+4*i)\n",
    "        imshow_colorspace(ax[i, j], np.array(u.neigh_2d_from_number(exp)))"
   ]
  },
  {
   "cell_type": "code",
   "execution_count": 14,
   "metadata": {},
   "outputs": [
    {
     "name": "stdout",
     "output_type": "stream",
     "text": [
      "True\n"
     ]
    }
   ],
   "source": [
    "list_num_neigh = [n == u.number_from_neigh_2d(u.neigh_2d_from_number(n)) for n in range(256)]\n",
    "print(all(list_num_neigh))"
   ]
  },
  {
   "cell_type": "markdown",
   "metadata": {},
   "source": [
    "### vector_euler_changes_2d"
   ]
  },
  {
   "cell_type": "code",
   "execution_count": 15,
   "metadata": {},
   "outputs": [
    {
     "name": "stdout",
     "output_type": "stream",
     "text": [
      "[1, 0, 0, 0, 0, -1, 0, 0, 0, 0, 0, 0, -1, -1, 0, 0, 0, -1, 0, 0, 0, -1, 0, 0, -1, -1, 0, 0, -1, -1, 0, 0, 0, -1, -1, -1, -1, -2, -1, -1, 0, 0, 0, 0, -1, -1, 0, 0, -1, -2, -1, -1, -1, -2, -1, -1, -1, -1, 0, 0, -1, -1, 0, 0, 0, -1, -1, -1, -1, -2, -1, -1, 0, 0, 0, 0, -1, -1, 0, 0, 0, -1, 0, 0, 0, -1, 0, 0, 0, 0, 1, 1, 0, 0, 1, 1, 0, -1, -1, -1, -1, -2, -1, -1, 0, 0, 0, 0, -1, -1, 0, 0, 0, -1, 0, 0, 0, -1, 0, 0, 0, 0, 1, 1, 0, 0, 1, 1, 0, -1, -1, -1, -1, -2, -1, -1, -1, -1, -1, -1, -2, -2, -1, -1, 0, -1, 0, 0, 0, -1, 0, 0, -1, -1, 0, 0, -1, -1, 0, 0, -1, -2, -2, -2, -2, -3, -2, -2, -1, -1, -1, -1, -2, -2, -1, -1, -1, -2, -1, -1, -1, -2, -1, -1, -1, -1, 0, 0, -1, -1, 0, 0, 0, -1, -1, -1, -1, -2, -1, -1, 0, 0, 0, 0, -1, -1, 0, 0, 0, -1, 0, 0, 0, -1, 0, 0, 0, 0, 1, 1, 0, 0, 1, 1, 0, -1, -1, -1, -1, -2, -1, -1, 0, 0, 0, 0, -1, -1, 0, 0, 0, -1, 0, 0, 0, -1, 0, 0, 0, 0, 1, 1, 0, 0, 1, 1] \n",
      "---\n",
      "min: -3\n"
     ]
    }
   ],
   "source": [
    "vector_2d = u.vector_of_euler_changes_2d()\n",
    "print(vector_2d, \"\\n---\\nmin:\", min(vector_2d))"
   ]
  },
  {
   "cell_type": "markdown",
   "metadata": {},
   "source": [
    "***"
   ]
  },
  {
   "cell_type": "markdown",
   "metadata": {},
   "source": [
    "### Test speed"
   ]
  },
  {
   "cell_type": "code",
   "execution_count": 16,
   "metadata": {},
   "outputs": [
    {
     "name": "stdout",
     "output_type": "stream",
     "text": [
      "9.13 µs ± 118 ns per loop (mean ± std. dev. of 7 runs, 100000 loops each)\n"
     ]
    }
   ],
   "source": [
    "%%timeit\n",
    "np.sum(bool_img)"
   ]
  },
  {
   "cell_type": "code",
   "execution_count": 17,
   "metadata": {},
   "outputs": [
    {
     "name": "stdout",
     "output_type": "stream",
     "text": [
      "48 µs ± 692 ns per loop (mean ± std. dev. of 7 runs, 10000 loops each)\n"
     ]
    }
   ],
   "source": [
    "%%timeit\n",
    "u.sum_bool_2d(bool_img)"
   ]
  },
  {
   "cell_type": "code",
   "execution_count": null,
   "metadata": {},
   "outputs": [],
   "source": []
  }
 ],
 "metadata": {
  "kernelspec": {
   "display_name": "Python 3",
   "language": "python",
   "name": "python3"
  },
  "language_info": {
   "codemirror_mode": {
    "name": "ipython",
    "version": 3
   },
   "file_extension": ".py",
   "mimetype": "text/x-python",
   "name": "python",
   "nbconvert_exporter": "python",
   "pygments_lexer": "ipython3",
   "version": "3.7.4"
  }
 },
 "nbformat": 4,
 "nbformat_minor": 4
}
