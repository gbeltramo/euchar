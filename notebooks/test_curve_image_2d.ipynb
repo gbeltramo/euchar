{
 "cells": [
  {
   "cell_type": "markdown",
   "metadata": {},
   "source": [
    "# Test libcurve.cpp - Image 2D"
   ]
  },
  {
   "cell_type": "code",
   "execution_count": 1,
   "metadata": {},
   "outputs": [],
   "source": [
    "%load_ext autoreload\n",
    "%autoreload 2"
   ]
  },
  {
   "cell_type": "code",
   "execution_count": 2,
   "metadata": {},
   "outputs": [],
   "source": [
    "import numpy as np\n",
    "np.random.seed(0)\n",
    "bool_img = np.random.randint(0, 2, (20,20), dtype=bool)\n",
    "neigh1 = np.array([[True, False],[True, False]])\n",
    "neigh2 = np.array([[False, True],[True, False]])\n",
    "img = np.random.randint(0, 256, (10,10), dtype=int)\n",
    "img[1, 1] = 243"
   ]
  },
  {
   "cell_type": "code",
   "execution_count": 3,
   "metadata": {},
   "outputs": [],
   "source": [
    "from nice.utils import print_dir\n",
    "from nice.plot import matplotlib_plot, imshow_colorspace, line\n",
    "import euchar.cppbinding.utils as u\n",
    "import euchar.cppbinding.curve as c\n",
    "from euchar.display import euler_curve_plot"
   ]
  },
  {
   "cell_type": "code",
   "execution_count": 4,
   "metadata": {},
   "outputs": [
    {
     "data": {
      "image/png": "[encoded data removed]",
      "text/plain": [
       "<Figure size 144x144 with 1 Axes>"
      ]
     },
     "metadata": {},
     "output_type": "display_data"
    }
   ],
   "source": [
    "fig, ax = matplotlib_plot(figsize=(2,2), facecolor=\"g\")\n",
    "imshow_colorspace(ax, img, \"BGR\", title=\"\")"
   ]
  },
  {
   "cell_type": "code",
   "execution_count": 5,
   "metadata": {},
   "outputs": [
    {
     "name": "stdout",
     "output_type": "stream",
     "text": [
      "Attributes and methods of <class 'module'> are:\n",
      "---\n",
      "__doc__\n",
      "__file__                   | __loader__                 | __name__                   | __package__\n",
      "__spec__                   | __version__                | filtration                 | image_2d\n",
      "image_3d                   | naive_image_2d             | naive_image_3d             | "
     ]
    }
   ],
   "source": [
    "print_dir(c)"
   ]
  },
  {
   "cell_type": "markdown",
   "metadata": {},
   "source": [
    "### naive_image_2d vs image_2d"
   ]
  },
  {
   "cell_type": "code",
   "execution_count": 6,
   "metadata": {},
   "outputs": [],
   "source": [
    "ecc_naive = np.array(c.naive_image_2d(img, 256))\n",
    "\n",
    "vector_changes = u.vector_of_euler_changes_2d()\n",
    "ecc = np.array(c.image_2d(img, vector_changes, 256))"
   ]
  },
  {
   "cell_type": "code",
   "execution_count": 20,
   "metadata": {},
   "outputs": [
    {
     "data": {
      "image/png": "[encoded data removed]",
      "text/plain": [
       "<Figure size 432x216 with 1 Axes>"
      ]
     },
     "metadata": {},
     "output_type": "display_data"
    }
   ],
   "source": [
    "fig, ax = matplotlib_plot(figsize=(6,3))\n",
    "bins = np.arange(len(ecc))\n",
    "euler_curve_plot(fig, ax, bins, ecc, \n",
    "                 xticks=[0, 50, 100, 150, 200, 255], \n",
    "                 yticks=[-4, -2, 0, 2, 4, 6, 8, 10],\n",
    "                 xlim=[-5, 300], ylim=[-5, 12],\n",
    "                 x_arrow_head_width=0.8, x_arrow_head_length=6,\n",
    "                 y_arrow_head_width=5, y_arrow_head_length=1)"
   ]
  },
  {
   "cell_type": "markdown",
   "metadata": {},
   "source": [
    "For many images"
   ]
  },
  {
   "cell_type": "code",
   "execution_count": 21,
   "metadata": {},
   "outputs": [
    {
     "name": "stdout",
     "output_type": "stream",
     "text": [
      "True\n"
     ]
    }
   ],
   "source": [
    "images = [np.random.randint(0, 256, (32,32), dtype=int) for _ in range(20)]\n",
    "list_bool = [(np.array(c.naive_image_2d(img, 256)) == np.array(c.image_2d(img, vector_changes, 256))).all()\n",
    "             for img in images]\n",
    "print(all(list_bool))"
   ]
  },
  {
   "cell_type": "code",
   "execution_count": null,
   "metadata": {},
   "outputs": [],
   "source": []
  },
  {
   "cell_type": "code",
   "execution_count": null,
   "metadata": {},
   "outputs": [],
   "source": []
  }
 ],
 "metadata": {
  "kernelspec": {
   "display_name": "Python 3",
   "language": "python",
   "name": "python3"
  },
  "language_info": {
   "codemirror_mode": {
    "name": "ipython",
    "version": 3
   },
   "file_extension": ".py",
   "mimetype": "text/x-python",
   "name": "python",
   "nbconvert_exporter": "python",
   "pygments_lexer": "ipython3",
   "version": "3.7.4"
  }
 },
 "nbformat": 4,
 "nbformat_minor": 4
}
