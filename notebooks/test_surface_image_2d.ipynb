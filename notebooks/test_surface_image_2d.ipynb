{
 "cells": [
  {
   "cell_type": "markdown",
   "metadata": {},
   "source": [
    "# Test libsurface.cpp - Image 2D"
   ]
  },
  {
   "cell_type": "code",
   "execution_count": 1,
   "metadata": {},
   "outputs": [],
   "source": [
    "%load_ext autoreload\n",
    "%autoreload 2"
   ]
  },
  {
   "cell_type": "code",
   "execution_count": 2,
   "metadata": {},
   "outputs": [],
   "source": [
    "import numpy as np\n",
    "np.random.seed(0)\n",
    "img1 = np.random.randint(0, 256, (10,10), dtype=np.uint8)\n",
    "img2 = np.random.randint(0, 256, (10,10), dtype=np.uint8)\n",
    "\n",
    "bool_img = np.random.randint(0, 2, (10,10), dtype=bool)\n",
    "neigh1 = np.array([[True, False],[True, False]])\n",
    "neigh2 = np.array([[False, True],[True, False]])"
   ]
  },
  {
   "cell_type": "code",
   "execution_count": 9,
   "metadata": {},
   "outputs": [],
   "source": [
    "from time import time\n",
    "from nice.utils import print_dir\n",
    "from nice.plot import matplotlib_plot, imshow_colorspace, line\n",
    "import euchar.cppbinding.utils as u\n",
    "import euchar.cppbinding.surface as s\n",
    "from euchar.display import euler_curve_plot"
   ]
  },
  {
   "cell_type": "markdown",
   "metadata": {},
   "source": [
    "Plot"
   ]
  },
  {
   "cell_type": "code",
   "execution_count": 4,
   "metadata": {},
   "outputs": [],
   "source": [
    "import matplotlib.pyplot as plt\n",
    "from matplotlib import cm\n",
    "from numpy import arange, array, meshgrid, rot90\n",
    "# For contours levels\n",
    "from matplotlib.ticker import MaxNLocator\n",
    "\n",
    "def plot_contour_surface(surface, nbins=15, dx=0.05, dy=0.05,\n",
    "    title=\"Contourf\", color_map='RdYlBu',\n",
    "    xlabel=\"\", ylabel=\"\", xticks=[], yticks=[],\n",
    "    figsize=(4,4), save=False, filename=\"--\", dpi=220):\n",
    "    \"\"\"\n",
    "    Plot contours of function\n",
    "\n",
    "    Parameters\n",
    "    ----------\n",
    "    nbins\n",
    "        int, regulates the smoothness of the contours\n",
    "    color_map\n",
    "        string, options are: 'viridis', 'plasma', 'inferno', 'magma',\n",
    "        'Greys', 'OrRd', 'Reds',\n",
    "        'binary', 'cool', 'hot', 'afmhot', 'coppet', 'PRGn', 'PiYG',\n",
    "        'RdBu', 'RdYlBu', 'Spectral', 'coolwarm' and others.\n",
    "    \"\"\"\n",
    "\n",
    "    # Contours levels\n",
    "    levels = MaxNLocator(nbins=nbins).tick_values(surface.min(), surface.max())\n",
    "    # Color map\n",
    "    cmap = plt.get_cmap(color_map)\n",
    "\n",
    "    fig = plt.figure(figsize=figsize)\n",
    "    ax = fig.add_subplot(111)\n",
    "    x = arange(surface.shape[1])\n",
    "    y = arange(surface.shape[0])\n",
    "    xx, yy = meshgrid(x, y)\n",
    "\n",
    "    # Plot the surface.\n",
    "    cf = ax.contourf(xx + dx/2.,\n",
    "                     yy + dy/2.,\n",
    "                     surface,\n",
    "                     levels=levels,\n",
    "                     cmap=cmap)\n",
    "    fig.colorbar(cf, ax=ax)\n",
    "\n",
    "    ax.set(xlabel=xlabel, ylabel=ylabel, xticks=xticks, yticks=yticks)\n",
    "    #ax.xaxis.set_major_locator(ticker.FixedLocator((pos_list)))\n",
    "    #ax.xaxis.set_major_formatter(ticker.FixedFormatter((name_list)))\n",
    "    ax.set_title(title)\n",
    "    fig.tight_layout()\n",
    "\n",
    "    if save == True:\n",
    "        plt.savefig(fname=filename, dpi=dpi)\n",
    "    else:\n",
    "        plt.show()"
   ]
  },
  {
   "cell_type": "markdown",
   "metadata": {},
   "source": [
    "***"
   ]
  },
  {
   "cell_type": "markdown",
   "metadata": {},
   "source": [
    "### Naive surface of 2 images 2D"
   ]
  },
  {
   "cell_type": "code",
   "execution_count": 10,
   "metadata": {},
   "outputs": [
    {
     "name": "stdout",
     "output_type": "stream",
     "text": [
      "time: 33.13\n"
     ]
    }
   ],
   "source": [
    "st = time()\n",
    "naive = np.array(s.naive_images_2d(img1, img2, 255, 255))\n",
    "print(f\"time: {time() - st:.2f}\")"
   ]
  },
  {
   "cell_type": "markdown",
   "metadata": {},
   "source": [
    "### Surface of 2D images"
   ]
  },
  {
   "cell_type": "code",
   "execution_count": 6,
   "metadata": {},
   "outputs": [],
   "source": [
    "v = u.vector_of_euler_changes_2d()"
   ]
  },
  {
   "cell_type": "code",
   "execution_count": 11,
   "metadata": {},
   "outputs": [
    {
     "name": "stdout",
     "output_type": "stream",
     "text": [
      "time: 0.06\n"
     ]
    }
   ],
   "source": [
    "st = time()\n",
    "surf = np.array(s.images_2d(img1, img2, v, 255, 255))\n",
    "print(f\"time: {time() - st:.2f}\")"
   ]
  },
  {
   "cell_type": "code",
   "execution_count": 8,
   "metadata": {},
   "outputs": [
    {
     "data": {
      "image/png": "[encoded data removed]",
      "text/plain": [
       "<Figure size 288x288 with 2 Axes>"
      ]
     },
     "metadata": {
      "needs_background": "light"
     },
     "output_type": "display_data"
    },
    {
     "data": {
      "image/png": "[encoded data removed]",
      "text/plain": [
       "<Figure size 288x288 with 2 Axes>"
      ]
     },
     "metadata": {
      "needs_background": "light"
     },
     "output_type": "display_data"
    }
   ],
   "source": [
    "plot_contour_surface(naive, title=\"naive\")\n",
    "plot_contour_surface(surf, title=\"surf\")"
   ]
  },
  {
   "cell_type": "code",
   "execution_count": 9,
   "metadata": {},
   "outputs": [
    {
     "name": "stdout",
     "output_type": "stream",
     "text": [
      "[] \n",
      " []\n"
     ]
    }
   ],
   "source": [
    "print(np.where(naive != surf)[0][:3], \"\\n\", np.where(naive != surf)[1][:3])"
   ]
  },
  {
   "cell_type": "code",
   "execution_count": 10,
   "metadata": {},
   "outputs": [
    {
     "name": "stdout",
     "output_type": "stream",
     "text": [
      "correct\n",
      " [[6 6 6 6 7 7 7 7 7 7]\n",
      " [6 6 6 6 6 6 6 6 6 6]\n",
      " [6 6 6 6 6 6 6 6 6 6]]\n",
      "---\n",
      "wrong\n",
      " [[6 6 6 6 7 7 7 7 7 7]\n",
      " [6 6 6 6 6 6 6 6 6 6]\n",
      " [6 6 6 6 6 6 6 6 6 6]]\n"
     ]
    }
   ],
   "source": [
    "print(\"correct\\n\", naive[40: 43,246:256], end=\"\\n---\\n\")\n",
    "print(\"wrong\\n\", surf[40: 43,246:256])"
   ]
  },
  {
   "cell_type": "code",
   "execution_count": 11,
   "metadata": {},
   "outputs": [
    {
     "name": "stdout",
     "output_type": "stream",
     "text": [
      "(array([8], dtype=int64), array([5], dtype=int64))\n",
      "[[255 255 255 255 255 255 255 255 255 255 255 255]\n",
      " [255 172  10 127 140  47 170 196 151 117 166 255]\n",
      " [255  22 183 192 204  33 216  67 179  78 154 255]\n",
      " [255 251  82 162 219 195 118 125 139 103 125 255]\n",
      " [255 229 216   9 164 116 108 211 222 161 159 255]\n",
      " [255  21  81  89 165 242 214 102  98  36 183 255]\n",
      " [255   5 112  87  58  43  76  70  60  75 228 255]\n",
      " [255 216 189 132  14  88 154 178 246 140 205 255]\n",
      " [255 204  69  58  57  41  98 193  66  72 122 255]\n",
      " [255 230 125 174 202  39  74 234 207  87 168 255]\n",
      " [255 101 135 174 200 223 122  88  94 107 145 255]\n",
      " [255 255 255 255 255 255 255 255 255 255 255 255]]\n",
      "==============================\n",
      "(array([], dtype=int64), array([], dtype=int64))\n",
      "[[255 255 255 255 255 255 255 255 255 255 255 255]\n",
      " [255  81 139 141 100 165 230 243 236  25  66 255]\n",
      " [255   9 214  77 107  47  18  72 152  95  86 255]\n",
      " [255   9  27  78  22 148 151 238 165 115   8 255]\n",
      " [255  45   5 208  19  69  94 243 146  38 213 255]\n",
      " [255 197  30   8 245 254  71  53 199  79   7 255]\n",
      " [255 238  35 175  29 185 222 192   9 190 222 255]\n",
      " [255  82 187 134 250  99  96  62 121 216 167 255]\n",
      " [255 149 204 177 124   8 205 243 130  35 118 255]\n",
      " [255  29   3  62 133 147 194 208 199 147  12 255]\n",
      " [255 203 173 142  59  71  30 167  97 123 184 255]\n",
      " [255 255 255 255 255 255 255 255 255 255 255 255]]\n"
     ]
    }
   ],
   "source": [
    "pad1 = np.array(u.pad_2d(img1, 255))\n",
    "pad2 = np.array(u.pad_2d(img2, 255))\n",
    "print(np.where(pad1 == 41))\n",
    "print(pad1)\n",
    "print(\"=\"*30)\n",
    "print(np.where(pad2 == 41))\n",
    "print(pad2)"
   ]
  },
  {
   "cell_type": "code",
   "execution_count": 12,
   "metadata": {},
   "outputs": [
    {
     "name": "stdout",
     "output_type": "stream",
     "text": [
      "[[ 14  88 154]\n",
      " [ 57  41  98]\n",
      " [202  39  74]]\n",
      "---\n",
      "[[250  99  96]\n",
      " [124   8 205]\n",
      " [133 147 194]]\n"
     ]
    }
   ],
   "source": [
    "I, J = 8, 5\n",
    "print(pad1[I-1:I+2, J-1:J+2], end=\"\\n---\\n\")\n",
    "print(pad2[I-1:I+2, J-1:J+2])"
   ]
  },
  {
   "cell_type": "markdown",
   "metadata": {},
   "source": [
    "***"
   ]
  },
  {
   "cell_type": "markdown",
   "metadata": {},
   "source": [
    "### Test equality"
   ]
  },
  {
   "cell_type": "code",
   "execution_count": 12,
   "metadata": {},
   "outputs": [
    {
     "data": {
      "text/plain": [
       "True"
      ]
     },
     "execution_count": 12,
     "metadata": {},
     "output_type": "execute_result"
    }
   ],
   "source": [
    "np.all(naive == surf)"
   ]
  },
  {
   "cell_type": "code",
   "execution_count": 13,
   "metadata": {},
   "outputs": [
    {
     "name": "stdout",
     "output_type": "stream",
     "text": [
      "i = 0  | M = 277  --> True\n",
      "=================\n",
      "i = 1  | M = 345  --> True\n",
      "=================\n"
     ]
    }
   ],
   "source": [
    "for i in range(2):\n",
    "    M = np.random.randint(150, 401)\n",
    "    image1 = np.random.randint(0, M, (16, 16))\n",
    "    image2 = np.random.randint(0, M, (16, 16))\n",
    "    \n",
    "    naive = np.array(s.naive_images_2d(image1, image2, M, M))\n",
    "    surf = np.array(s.images_2d(image1, image2, v, M, M))\n",
    "    print(\"i =\", i, \" | M =\", M, end=\"  --> \")\n",
    "    print(np.all(naive == surf), end=\"\\n=================\\n\")"
   ]
  },
  {
   "cell_type": "code",
   "execution_count": null,
   "metadata": {},
   "outputs": [],
   "source": []
  },
  {
   "cell_type": "code",
   "execution_count": null,
   "metadata": {},
   "outputs": [],
   "source": []
  }
 ],
 "metadata": {
  "kernelspec": {
   "display_name": "Python 3",
   "language": "python",
   "name": "python3"
  },
  "language_info": {
   "codemirror_mode": {
    "name": "ipython",
    "version": 3
   },
   "file_extension": ".py",
   "mimetype": "text/x-python",
   "name": "python",
   "nbconvert_exporter": "python",
   "pygments_lexer": "ipython3",
   "version": "3.7.4"
  }
 },
 "nbformat": 4,
 "nbformat_minor": 4
}
